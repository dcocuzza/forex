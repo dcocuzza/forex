{
 "cells": [
  {
   "cell_type": "markdown",
   "id": "da4e95e8",
   "metadata": {},
   "source": [
    "# forex"
   ]
  },
  {
   "cell_type": "markdown",
   "id": "89ce6ffa",
   "metadata": {},
   "source": [
    "<img src = \"images/prima.jpg\">"
   ]
  },
  {
   "cell_type": "markdown",
   "id": "df39dca0",
   "metadata": {},
   "source": [
    "#### Il forex (anche noto come 'FX', acronimo di 'Foreign Exchange') è una forma di cambio valutario che consiste nella conversione di una valuta in un'altra. Il forex è uno dei mercati più dinamici al mondo, con transazioni giornaliere da parte di privati, società e banche."
   ]
  },
  {
   "cell_type": "markdown",
   "id": "37984a3d",
   "metadata": {},
   "source": [
    "Buona parte dei cambi valutari venga fatta per scopi pratici, ma la maggioranza delle conversioni di valuta viene effettuata da trader forex per ottenere un profitto. L'importo della valuta convertita ogni giorno può rendere l'andamento del prezzo di alcune valute estremamente volatile."
   ]
  },
  {
   "cell_type": "markdown",
   "id": "a6526429",
   "metadata": {},
   "source": [
    "# Coppia Forex\n",
    "Una coppia forex è una combinazione di due valute che vengono scambiate tra loro. Ci sono centinaia di combinazioni diverse tra cui scegliere. Tra le più popolari ci sono euro contro dollaro statunitense (EUR/USD), dollaro statunitense contro yen giapponese (USD/JPY) e sterlina britannica contro dollaro statunitense (GBP/USD).\n",
    "\n",
    "![monete](images/monete.png)"
   ]
  },
  {
   "cell_type": "markdown",
   "id": "fbb3c52a",
   "metadata": {},
   "source": [
    "La valuta base è sempre indicata a sinistra della coppia valutaria, mentre la valuta quotata è quella sulla destra. La valuta base corrisponde sempre a uno, mentre la valuta quotata è uguale al prezzo quotato attuale della coppia e indica la quantità della valuta quotata necessaria per acquistare un'unità della valuta base. Quindi, facendo trading sulle valute, venderai una valuta per acquistarne un'altra.\n",
    "\n",
    "![cambio](images/eurusd.png)"
   ]
  },
  {
   "cell_type": "markdown",
   "id": "f4d44fa6",
   "metadata": {},
   "source": [
    "# Acquistare o vendere una coppia valutaria\n",
    "\n",
    "Acquistare una coppia valutaria significa che prevedi un aumento del prezzo di una valuta. Ciò indica un apprezzamento della valuta base rispetto alla valuta quotata. Vendere una coppia valutaria significa che prevedi un ribasso del prezzo, ossia un deprezzamento della valuta base rispetto alla valuta quotata.\n",
    "\n",
    "Ad esempio, acquisterai (‘buy’) la coppia EUR/USD se prevedi un rafforzamento dell'euro rispetto al dollaro, ovvero saranno necessari più dollari per acquistare un singolo euro. Oppure, venderai (‘sell’) se prevedi un indebolimento dell'euro rispetto al dollaro, ovvero saranno necessari meno dollari per acquistare un singolo euro."
   ]
  },
  {
   "cell_type": "markdown",
   "id": "c4343628",
   "metadata": {},
   "source": [
    "# Obiettivo progetto\n",
    "\n",
    "L'obiettivo del progetto è di monitorare e stimare la coppia EUR/USD durante le ore del giorno dato che i trader che operano sulle coppie forex traggono profitto dall'apprezzamento o dal deprezzamento di una valuta rispetto a un'altra."
   ]
  },
  {
   "cell_type": "code",
   "execution_count": null,
   "id": "90cd4ce4",
   "metadata": {},
   "outputs": [],
   "source": []
  }
 ],
 "metadata": {
  "kernelspec": {
   "display_name": "Python 3 (ipykernel)",
   "language": "python",
   "name": "python3"
  },
  "language_info": {
   "codemirror_mode": {
    "name": "ipython",
    "version": 3
   },
   "file_extension": ".py",
   "mimetype": "text/x-python",
   "name": "python",
   "nbconvert_exporter": "python",
   "pygments_lexer": "ipython3",
   "version": "3.10.6"
  }
 },
 "nbformat": 4,
 "nbformat_minor": 5
}
