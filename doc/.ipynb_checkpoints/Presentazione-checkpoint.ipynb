{
 "cells": [
  {
   "cell_type": "markdown",
   "id": "da4e95e8",
   "metadata": {},
   "source": [
    "# forex"
   ]
  },
  {
   "cell_type": "markdown",
   "id": "89ce6ffa",
   "metadata": {},
   "source": [
    "<img src = \"images/prima.jpg\">"
   ]
  },
  {
   "cell_type": "markdown",
   "id": "df39dca0",
   "metadata": {},
   "source": [
    "#### Il forex (anche noto come 'FX', acronimo di 'Foreign Exchange') è una forma di cambio valutario che consiste nella conversione di una valuta in un'altra. Il forex è uno dei mercati più dinamici al mondo, con transazioni giornaliere da parte di privati, società e banche."
   ]
  },
  {
   "cell_type": "markdown",
   "id": "37984a3d",
   "metadata": {},
   "source": [
    "Buona parte dei cambi valutari venga fatta per scopi pratici, ma la maggioranza delle conversioni di valuta viene effettuata da trader forex per ottenere un profitto. L'importo della valuta convertita ogni giorno può rendere l'andamento del prezzo di alcune valute estremamente volatile."
   ]
  },
  {
   "cell_type": "markdown",
   "id": "a6526429",
   "metadata": {},
   "source": [
    "# Coppia Forex\n",
    "Una coppia forex è una combinazione di due valute che vengono scambiate tra loro. Ci sono centinaia di combinazioni diverse tra cui scegliere. Tra le più popolari ci sono euro contro dollaro statunitense (EUR/USD), dollaro statunitense contro yen giapponese (USD/JPY) e sterlina britannica contro dollaro statunitense (GBP/USD).\n",
    "\n",
    "![monete](images/monete.png)"
   ]
  },
  {
   "cell_type": "markdown",
   "id": "fbb3c52a",
   "metadata": {},
   "source": [
    "La valuta base è sempre indicata a sinistra della coppia valutaria, mentre la valuta quotata è quella sulla destra. La valuta base corrisponde sempre a uno, mentre la valuta quotata è uguale al prezzo quotato attuale della coppia e indica la quantità della valuta quotata necessaria per acquistare un'unità della valuta base. Quindi, facendo trading sulle valute, venderai una valuta per acquistarne un'altra.\n",
    "\n",
    "![cambio](images/eurusd.png)"
   ]
  },
  {
   "cell_type": "markdown",
   "id": "f4d44fa6",
   "metadata": {},
   "source": [
    "# Acquistare o vendere una coppia valutaria\n",
    "\n",
    "Acquistare una coppia valutaria significa che prevedi un aumento del prezzo di una valuta. Ciò indica un apprezzamento della valuta base rispetto alla valuta quotata. Vendere una coppia valutaria significa che prevedi un ribasso del prezzo, ossia un deprezzamento della valuta base rispetto alla valuta quotata.\n",
    "\n",
    "Ad esempio, acquisterai (‘buy’) la coppia EUR/USD se prevedi un rafforzamento dell'euro rispetto al dollaro, ovvero saranno necessari più dollari per acquistare un singolo euro. Oppure, venderai (‘sell’) se prevedi un indebolimento dell'euro rispetto al dollaro, ovvero saranno necessari meno dollari per acquistare un singolo euro."
   ]
  },
  {
   "cell_type": "markdown",
   "id": "c4343628",
   "metadata": {},
   "source": [
    "<img src = \"images/demo.jpg\">"
   ]
  },
  {
   "cell_type": "markdown",
   "id": "61271103",
   "metadata": {},
   "source": [
    "# Obiettivo progetto\n",
    "\n",
    "L'obiettivo del progetto è di monitorare e stimare la coppia EUR/USD durante le ore del giorno dato che i trader che operano sulle coppie forex traggono profitto dall'apprezzamento o dal deprezzamento di una valuta rispetto a un'altra.\n"
   ]
  },
  {
   "cell_type": "markdown",
   "id": "bc0e33c1",
   "metadata": {},
   "source": [
    "# Tecnologie\n",
    "\n",
    "<img src = \"images/Forex.drawio.png\">"
   ]
  },
  {
   "cell_type": "markdown",
   "id": "e62567a9",
   "metadata": {},
   "source": [
    "# Logstash\n",
    " \n",
    "**Logstash** permette di raccogliere dati provenienti da diverse sorgenti, modificare e inoltrare dati verso una o più destinazioni.  \n",
    "**http_poller** è un plug-in di input Logstash che consente di chiamare un'API HTTP, decodificarne l'output in eventi e inviarli.  \n",
    "I dati sono forniti dal sito: https://www.alphavantage.co, le richieste HTTP vengono mandate da Logstash usando il plug-in http_poller.  \n",
    "I dati della chaimata API vengono inviati al topic \"eurusd\" di Kafka.  \n",
    "La risposta API contiene i seguenti dati: \n",
    "```\n",
    "\n",
    "{\n",
    "    \"Realtime Currency Exchange Rate\": {\n",
    "        \"1. From_Currency Code\": \"EUR\",\n",
    "        \"2. From_Currency Name\": \"Euro\",\n",
    "        \"3. To_Currency Code\": \"USD\",\n",
    "        \"4. To_Currency Name\": \"United States Dollar\",\n",
    "        \"5. Exchange Rate\": \"1.07158160\",\n",
    "        \"6. Last Refreshed\": \"2023-06-05 19:06:42\",\n",
    "        \"7. Time Zone\": \"UTC\",\n",
    "        \"8. Bid Price\": \"1.07158111\",\n",
    "        \"9. Ask Price\": \"1.07162982\"\n",
    "    }\n",
    "}\n",
    "\n",
    "```\n",
    "<img src = \"images/logstash.png\">"
   ]
  },
  {
   "cell_type": "markdown",
   "id": "bf509a7d",
   "metadata": {},
   "source": [
    "# Kafka\n",
    "\n",
    "Apache Kafka è una piattaforma di streaming di eventi distribuiti open source utilizzata da migliaia di aziende per pipeline di dati ad alte prestazioni, analisi di streaming, integrazione dei dati e applicazioni mission-critical.  \n",
    "\n",
    "In kafka abbiamo i seguenti componenti:\n",
    "1. **Produttori**: inviamp i dati decidendo su quale topic inviarli  \n",
    "2. **Topic**: Un topic in Kafka è simile a un \"canale\" o un \"argomento\" in altri sistemi di messaggistica, Un topic di Kafka è identificato da un nome univoco. I produttori inviano i messaggi al topic specifico e i consumatori leggono i messaggi da quel topic.  \n",
    "3. **Partizioni***: Un topic può essere suddiviso in più partizioni. Le partizioni consentono di parallelizzare e distribuire l'elaborazione dei messaggi in modo scalabile.  \n",
    "4. **Consumatori**: Leggono i messaggi da uno o più topic.  \n",
    "\n",
    "Logstash invia i dati al topic \"eurusd\" svolgendo il ruolo di produttore mentre Apache Spark svolge il ruolo di consumatore leggendo dal topic.\n",
    "\n",
    "<img src = \"images/topic.png\">"
   ]
  },
  {
   "cell_type": "markdown",
   "id": "929c0431",
   "metadata": {},
   "source": [
    "# Spark \n",
    "\n",
    "Apache Spark è un framework di elaborazione di dati open-source progettato per l'elaborazione distribuita e il calcolo ad alta velocità. È stato sviluppato per affrontare le sfide di scalabilità e prestazioni nell'analisi dei dati su grandi cluster di computer.\n",
    "\n",
    "Ecco alcune caratteristiche principali di Apache Spark:\n",
    "\n",
    "1. Velocità: Apache Spark offre un'elaborazione dati in memoria molto rapida. Utilizza la memorizzazione cache per mantenere i dati in memoria, consentendo di accedere rapidamente ai dati senza doverli leggere da un disco. Ciò porta a prestazioni notevolmente superiori rispetto ai sistemi di elaborazione tradizionali basati su disco.\n",
    "\n",
    "2. Elaborazione distribuita: Spark permette di distribuire il calcolo su un cluster di computer, consentendo di elaborare grandi quantità di dati in parallelo. Sfrutta il modello di programmazione \"Resilient Distributed Datasets\" (RDD) che rappresenta una collezione immutabile e distribuita di oggetti. I dati in un RDD possono essere elaborati in parallelo su più nodi del cluster.\n",
    "\n",
    "3. Ampia compatibilità: Spark supporta diversi linguaggi di programmazione, tra cui Python, Scala, Java e R. Ciò consente agli sviluppatori di utilizzare il linguaggio di programmazione preferito per scrivere applicazioni Spark. Inoltre, Spark integra bene con altre tecnologie come Hadoop, Hive, Cassandra, HBase e molti altri.\n",
    "\n",
    "Apache Spark è ampiamente utilizzato nell'ambito del data processing e dell'analisi dei big data.\n"
   ]
  }
 ],
 "metadata": {
  "kernelspec": {
   "display_name": "Python 3 (ipykernel)",
   "language": "python",
   "name": "python3"
  },
  "language_info": {
   "codemirror_mode": {
    "name": "ipython",
    "version": 3
   },
   "file_extension": ".py",
   "mimetype": "text/x-python",
   "name": "python",
   "nbconvert_exporter": "python",
   "pygments_lexer": "ipython3",
   "version": "3.10.6"
  }
 },
 "nbformat": 4,
 "nbformat_minor": 5
}
