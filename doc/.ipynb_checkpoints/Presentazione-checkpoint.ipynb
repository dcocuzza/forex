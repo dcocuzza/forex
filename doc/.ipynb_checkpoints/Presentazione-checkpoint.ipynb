{
 "cells": [
  {
   "cell_type": "markdown",
   "id": "da4e95e8",
   "metadata": {},
   "source": [
    "# forex"
   ]
  },
  {
   "cell_type": "markdown",
   "id": "89ce6ffa",
   "metadata": {},
   "source": [
    "<img src = \"images/prima.jpg\">"
   ]
  },
  {
   "cell_type": "markdown",
   "id": "df39dca0",
   "metadata": {},
   "source": [
    "#### Il forex (anche noto come 'FX', acronimo di 'Foreign Exchange') è una forma di cambio valutario che consiste nella conversione di una valuta in un'altra. Il forex è uno dei mercati più dinamici al mondo, con transazioni giornaliere da parte di privati, società e banche."
   ]
  },
  {
   "cell_type": "markdown",
   "id": "37984a3d",
   "metadata": {},
   "source": [
    "Buona parte dei cambi valutari venga fatta per scopi pratici, ma la maggioranza delle conversioni di valuta viene effettuata da trader forex per ottenere un profitto. L'importo della valuta convertita ogni giorno può rendere l'andamento del prezzo di alcune valute estremamente volatile."
   ]
  },
  {
   "cell_type": "markdown",
   "id": "a6526429",
   "metadata": {},
   "source": [
    "# Coppia Forex\n",
    "Una coppia forex è una combinazione di due valute che vengono scambiate tra loro. Ci sono centinaia di combinazioni diverse tra cui scegliere. Tra le più popolari ci sono euro contro dollaro statunitense (EUR/USD), dollaro statunitense contro yen giapponese (USD/JPY) e sterlina britannica contro dollaro statunitense (GBP/USD).\n",
    "\n",
    "![monete](images/monete.png)"
   ]
  },
  {
   "cell_type": "markdown",
   "id": "fbb3c52a",
   "metadata": {},
   "source": [
    "La valuta base è sempre indicata a sinistra della coppia valutaria, mentre la valuta quotata è quella sulla destra. La valuta base corrisponde sempre a uno, mentre la valuta quotata è uguale al prezzo quotato attuale della coppia e indica la quantità della valuta quotata necessaria per acquistare un'unità della valuta base. Quindi, facendo trading sulle valute, venderai una valuta per acquistarne un'altra.\n",
    "\n",
    "![cambio](images/eurusd.png)"
   ]
  },
  {
   "cell_type": "markdown",
   "id": "f4d44fa6",
   "metadata": {},
   "source": [
    "# Acquistare o vendere una coppia valutaria\n",
    "\n",
    "Acquistare una coppia valutaria significa che prevedi un aumento del prezzo di una valuta. Ciò indica un apprezzamento della valuta base rispetto alla valuta quotata. Vendere una coppia valutaria significa che prevedi un ribasso del prezzo, ossia un deprezzamento della valuta base rispetto alla valuta quotata.\n",
    "\n",
    "Ad esempio, acquisterai (‘buy’) la coppia EUR/USD se prevedi un rafforzamento dell'euro rispetto al dollaro, ovvero saranno necessari più dollari per acquistare un singolo euro. Oppure, venderai (‘sell’) se prevedi un indebolimento dell'euro rispetto al dollaro, ovvero saranno necessari meno dollari per acquistare un singolo euro."
   ]
  },
  {
   "cell_type": "markdown",
   "id": "c4343628",
   "metadata": {},
   "source": [
    "<img src = \"images/demo.jpg\">"
   ]
  },
  {
   "cell_type": "markdown",
   "id": "61271103",
   "metadata": {},
   "source": [
    "# Obiettivo progetto\n",
    "\n",
    "L'obiettivo del progetto è di monitorare e stimare la coppia EUR/USD durante le ore del giorno dato che i trader che operano sulle coppie forex traggono profitto dall'apprezzamento o dal deprezzamento di una valuta rispetto a un'altra.\n"
   ]
  },
  {
   "cell_type": "markdown",
   "id": "bc0e33c1",
   "metadata": {},
   "source": [
    "# Tecnologie\n",
    "\n",
    "<img src = \"images/Forex.drawio.png\">"
   ]
  },
  {
   "cell_type": "markdown",
   "id": "e62567a9",
   "metadata": {},
   "source": [
    "# Logstash\n",
    " \n",
    "**Logstash** permette di raccogliere dati provenienti da diverse sorgenti, modificare e inoltrare dati verso una o più destinazioni.  \n",
    "**http_poller** è un plug-in di input Logstash che consente di chiamare un'API HTTP, decodificarne l'output in eventi e inviarli.  \n",
    "I dati sono forniti dal sito: https://www.alphavantage.co, le richieste HTTP vengono mandate da Logstash usando il plug-in http_poller.  \n",
    "I dati della chaimata API vengono inviati al topic \"eurusd\" di Kafka.  \n",
    "La risposta API contiene i seguenti dati: \n",
    "```\n",
    "\n",
    "{\n",
    "    \"Realtime Currency Exchange Rate\": {\n",
    "        \"1. From_Currency Code\": \"EUR\",\n",
    "        \"2. From_Currency Name\": \"Euro\",\n",
    "        \"3. To_Currency Code\": \"USD\",\n",
    "        \"4. To_Currency Name\": \"United States Dollar\",\n",
    "        \"5. Exchange Rate\": \"1.07158160\",\n",
    "        \"6. Last Refreshed\": \"2023-06-05 19:06:42\",\n",
    "        \"7. Time Zone\": \"UTC\",\n",
    "        \"8. Bid Price\": \"1.07158111\",\n",
    "        \"9. Ask Price\": \"1.07162982\"\n",
    "    }\n",
    "}\n",
    "\n",
    "```\n",
    "<img src = \"images/logstash.png\">"
   ]
  },
  {
   "cell_type": "markdown",
   "id": "bf509a7d",
   "metadata": {},
   "source": [
    "# Apache Kafka\n",
    "\n",
    "Apache Kafka è una piattaforma di streaming di eventi distribuiti open source utilizzata da migliaia di aziende per pipeline di dati ad alte prestazioni, analisi di streaming, integrazione dei dati e applicazioni mission-critical.  \n",
    "\n",
    "In kafka abbiamo i seguenti componenti:\n",
    "1. **Produttori**: inviamp i dati decidendo su quale topic inviarli  \n",
    "2. **Topic**: Un topic in Kafka è simile a un \"canale\" o un \"argomento\" in altri sistemi di messaggistica, Un topic di Kafka è identificato da un nome univoco. I produttori inviano i messaggi al topic specifico e i consumatori leggono i messaggi da quel topic.  \n",
    "3. **Partizioni***: Un topic può essere suddiviso in più partizioni. Le partizioni consentono di parallelizzare e distribuire l'elaborazione dei messaggi in modo scalabile.  \n",
    "4. **Consumatori**: Leggono i messaggi da uno o più topic.  \n",
    "\n",
    "Logstash invia i dati al topic \"eurusd\" svolgendo il ruolo di produttore mentre Apache Spark svolge il ruolo di consumatore leggendo dal topic.\n",
    "\n",
    "<img src = \"images/topic.png\">"
   ]
  },
  {
   "cell_type": "markdown",
   "id": "929c0431",
   "metadata": {},
   "source": [
    "# Apache Spark \n",
    "\n",
    "Apache Spark è un framework di elaborazione di dati open-source progettato per l'elaborazione distribuita e il calcolo ad alta velocità. È stato sviluppato per affrontare le sfide di scalabilità e prestazioni nell'analisi dei dati su grandi cluster di computer.\n",
    "\n",
    "Ecco alcune caratteristiche principali di Apache Spark:\n",
    "\n",
    "1. Velocità: Utilizza la memorizzazione cache per mantenere i dati in memoria, consentendo di accedere rapidamente ai dati senza doverli leggere da un disco. Ciò porta a prestazioni notevolmente superiori rispetto ai sistemi di elaborazione tradizionali basati su disco.\n",
    "\n",
    "2. Elaborazione distribuita: Spark permette di distribuire il calcolo su un cluster di computer, consentendo di elaborare grandi quantità di dati in parallelo.\n",
    "\n",
    "3. Ampia compatibilità: Spark supporta diversi linguaggi di programmazione, tra cui Python, Scala, Java e R. Ciò consente agli sviluppatori di utilizzare il linguaggio di programmazione preferito per scrivere applicazioni Spark.\n",
    "\n",
    "\n",
    "<img src = \"images/spark.png\">  \n",
    "\n",
    "\n",
    "\n",
    "Tramite Apache Spark si effettua il collegamento al topic \"eurusd\" di Kafka per consumare i dati depositati.  \n",
    "\n",
    "Viene usato Spark MLib per effetture una regressione lineare sui dati relativi al rate e all'orario.\n",
    "\n",
    "### Regressione Lineare\n",
    "\n",
    "La regressione lineare cerca di tracciare una linea retta che si adatti meglio ai punti di dati disponibili in modo da poter fare previsioni o stimare il valore della variabile dipendente in base ai valori delle variabili indipendenti.  \n",
    "L'obiettivo della regressione lineare è trovare i coefficienti che descrivono la migliore linea retta per rappresentare i dati. Questi coefficienti rappresentano l'intercetta (punto in cui la linea interseca l'asse delle ordinate) e il coefficiente angolare (pendenza della linea). Una volta che la linea retta è stata definita, può essere utilizzata per prevedere i valori della variabile dipendente per nuovi dati, utilizzando i valori delle variabili indipendenti. \n",
    "\n",
    "```\n",
    "def linear_regression():\n",
    "  training_data = spark.createDataFrame([(float(last_refreshed), float(exchange_rate),) for last_refreshed, exchange_rate in zip(timestp, exchange_rates)], [\"last_refreshed\", \"exchange_rate\"])\n",
    "  assembler = VectorAssembler(inputCols=[\"last_refreshed\"], outputCol=\"features\")\n",
    "  prepared_data = assembler.transform(training_data)\n",
    "\n",
    "  lr = LinearRegression(featuresCol=\"features\", labelCol=\"exchange_rate\")\n",
    "  lr_model = lr.fit(prepared_data)\n",
    "\n",
    "  print(\"Coefficients: {}\".format(lr_model.coefficients))\n",
    "  print(\"Intercept: {}\".format(lr_model.intercept))\n",
    "\n",
    "  predictions = lr_model.transform(prepared_data)\n",
    "  return predictions\n",
    "\n",
    "```\n",
    "\n",
    "\n",
    "La funzione linear_regression() è scritta in Python utilizzando la libreria SparkMLib.  \n",
    "Spark MLlib è una libreria di machine learning di Apache Spark che offre strumenti e algoritmi per l'elaborazione distribuita di dati e l'addestramento di modelli di machine learning su grandi dataset.  \n",
    "\n",
    "\n",
    "1. Creazione del DataFrame di addestramento:\n",
    "   - Viene creato un DataFrame utilizzando il metodo spark.createDataFrame().  \n",
    "   - Il DataFrame è popolato con coppie di valori last_refreshed e exchange_rate. Questi valori rappresentano il timestamp (ultima data di aggiornamento) e il tasso di cambio rispettivamente.  \n",
    "   - I valori vengono convertiti in formato float utilizzando la funzione float().\n",
    "   - Viene specificato lo schema dei dati con i nomi delle colonne come \"last_refreshed\" e    \"exchange_rate\".\n",
    "\n",
    "2. Assemblaggio delle feature:\n",
    "   - Viene creato un oggetto VectorAssembler per assemblare le feature.\n",
    "   - L'input della fase di assemblaggio sono le colonne \"last_refreshed\".\n",
    "   - L'output viene specificato come \"features\".\n",
    "   - L'assemblatore viene applicato al DataFrame di addestramento utilizzando il metodo transform() e il risultato viene assegnato a prepared_data.\n",
    "\n",
    "3. Creazione del modello di regressione lineare:\n",
    "   - Viene creato un oggetto LinearRegression con featuresCol impostato su \"features\" e labelCol impostato su \"exchange_rate\".\n",
    "        featuresCol indica la colonna contenente le feature utilizzate per l'addestramento del modello.\n",
    "        labelCol indica la colonna contenente la variabile di output o il target (tasso di cambio).\n",
    "   - Viene chiamato il metodo fit() sull'oggetto lr per addestrare il modello utilizzando prepared_data.\n",
    "   - Il modello addestrato viene assegnato a lr_model.\n",
    "\n",
    "4. Stampare i coefficienti e l'intercetta del modello:\n",
    "   - Vengono stampati i coefficienti del modello utilizzando lr_model.coefficients.\n",
    "   - Vengono stampati l'intercetta del modello utilizzando lr_model.intercept.\n",
    "\n",
    "5. Eseguire previsioni utilizzando il modello:\n",
    "   - Viene chiamato il metodo transform() sul modello lr_model utilizzando prepared_data.\n",
    "   - Le previsioni risultanti vengono assegnate a predictions.\n",
    "\n",
    "6. Restituire le previsioni:\n",
    "   - La funzione restituisce il DataFrame predictions, che contiene le previsioni del modello per il tasso di cambio in base ai valori di input.\n",
    "\n",
    "\n",
    "I dati elaborati vengono mandati ad Elasticsearch per l'indicizzazione.\n"
   ]
  },
  {
   "cell_type": "markdown",
   "id": "feaa45e6",
   "metadata": {},
   "source": [
    "# Elasticsearch  \n",
    "\n",
    "Elasticsearch è un motore di ricerca e analisi distribuito e open source per tutti i tipi di dati, inclusi testuali, numerici, geospaziali, strutturati e non strutturati. \n",
    "Un index in Elasticsearch è una raccolta di documenti correlati tra loro. Elasticsearch archivia i dati come documenti JSON, l'index a cui si inviano i dati è \"eurusd\".  \n",
    "I dati vengono passati da Spark dopo aver eseguito la regressione lineare:  \n",
    "\n",
    "```\n",
    "doc = {\n",
    "      \"timestamp\" : data,\n",
    "      \"timestamp_numeric\" : int(last_refreshed_numeric),\n",
    "      \"from_currency_name\" : from_currency_name,\n",
    "      \"to_currency_name\" : to_currency_name,\n",
    "      \"exchange_rate\": exchange_rate,\n",
    "      \"prediction\": prediction\n",
    "    }\n",
    "\n",
    "    global id\n",
    "    id = id + 1\n",
    "      \n",
    "    risp = es.index(index = es_index, id = id, document = doc)\n",
    "\n",
    "```\n",
    "\n",
    "I documenti inviati ad Elasticsearch saranno visualizzabili in: http://localhost:9200/eursd/_doc/{id} \n",
    "\n",
    "<img src = \"images/meme.jpg\">\n",
    "\n",
    "I dati inviati saranno visualizzati su Kibana.  \n"
   ]
  },
  {
   "cell_type": "markdown",
   "id": "52a74aac",
   "metadata": {},
   "source": [
    "# Kibana\n",
    "\n",
    "Kibana è uno strumento di visualizzazione e gestione dei dati per Elasticsearch che fornisce istogrammi in tempo reale, grafici a linee, grafici a torta e mappe."
   ]
  },
  {
   "cell_type": "markdown",
   "id": "6548ab42",
   "metadata": {},
   "source": [
    "# Cosa ho imparato\n",
    "\n"
   ]
  }
 ],
 "metadata": {
  "kernelspec": {
   "display_name": "Python 3 (ipykernel)",
   "language": "python",
   "name": "python3"
  },
  "language_info": {
   "codemirror_mode": {
    "name": "ipython",
    "version": 3
   },
   "file_extension": ".py",
   "mimetype": "text/x-python",
   "name": "python",
   "nbconvert_exporter": "python",
   "pygments_lexer": "ipython3",
   "version": "3.10.6"
  }
 },
 "nbformat": 4,
 "nbformat_minor": 5
}
